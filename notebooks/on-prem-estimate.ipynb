{
 "cells": [
  {
   "cell_type": "markdown",
   "id": "e0abf3c6-de09-48d1-9980-b0fa63436c63",
   "metadata": {},
   "source": [
    "# On Prem Whisper Estimate\n",
    "\n",
    "This notebook contains some rudimentary analysis of the results from running whisper testing using the process outlined in the [README.md](README.md). It specifically looks at how long we might expect running Whisper on premises using hardware similar to the RDF GPU workstation.\n",
    "\n",
    "## SDR Data\n",
    "\n",
    "First lets load the metadata for the items that were selected for the analysis. The CSV was obtained from the [Media for Whisper Pilot](https://docs.google.com/spreadsheets/d/1sgcxy0eNwWTn1LeMVH8TDJ6J8qL8iIGfZ25t4nmYqyQ/edit#gid=0) Google Sheet."
   ]
  },
  {
   "cell_type": "code",
   "execution_count": 1,
   "id": "943f19fe-7f5a-444b-bdef-cd9f24d0b00a",
   "metadata": {},
   "outputs": [
    {
     "data": {
      "text/html": [
       "<div>\n",
       "<style scoped>\n",
       "    .dataframe tbody tr th:only-of-type {\n",
       "        vertical-align: middle;\n",
       "    }\n",
       "\n",
       "    .dataframe tbody tr th {\n",
       "        vertical-align: top;\n",
       "    }\n",
       "\n",
       "    .dataframe thead th {\n",
       "        text-align: right;\n",
       "    }\n",
       "</style>\n",
       "<table border=\"1\" class=\"dataframe\">\n",
       "  <thead>\n",
       "    <tr style=\"text-align: right;\">\n",
       "      <th></th>\n",
       "      <th>Druid</th>\n",
       "      <th>Argo Link</th>\n",
       "      <th>PURL</th>\n",
       "      <th>Title</th>\n",
       "      <th>Notes</th>\n",
       "      <th>Source language</th>\n",
       "      <th>Duration</th>\n",
       "      <th>Speech Begins</th>\n",
       "      <th>Tasks</th>\n",
       "      <th>Captions / Transcript File? (Type, Lang)</th>\n",
       "      <th>Testing Focus</th>\n",
       "      <th>Redundant? Omit?</th>\n",
       "    </tr>\n",
       "  </thead>\n",
       "  <tbody>\n",
       "    <tr>\n",
       "      <th>0</th>\n",
       "      <td>bb158br2509</td>\n",
       "      <td>https://argo.stanford.edu/view/druid:bb158br2509</td>\n",
       "      <td>https://purl.stanford.edu/bb158br2509</td>\n",
       "      <td>Project South - S611</td>\n",
       "      <td>Clear spoken audio, persistant hum in the back...</td>\n",
       "      <td>English</td>\n",
       "      <td>1842</td>\n",
       "      <td>0:00:02</td>\n",
       "      <td>Run through medium and large models, track tim...</td>\n",
       "      <td>Yes (vtt and txt, English)</td>\n",
       "      <td>Preprocessing (remove background noise). Strai...</td>\n",
       "      <td>NaN</td>\n",
       "    </tr>\n",
       "    <tr>\n",
       "      <th>1</th>\n",
       "      <td>bg405cn7261</td>\n",
       "      <td>https://argo.stanford.edu/view/druid:bg405cn7261</td>\n",
       "      <td>https://purl.stanford.edu/bg405cn7261</td>\n",
       "      <td>Whitmire, Amanda L. Student work, copyright an...</td>\n",
       "      <td>Clear spoken audio, uses language and acronyms...</td>\n",
       "      <td>English</td>\n",
       "      <td>655</td>\n",
       "      <td>0:00:24</td>\n",
       "      <td>Run through medium and large models, track tim...</td>\n",
       "      <td>Yes (vtt and txt, English)</td>\n",
       "      <td>Transcription. Acronyms, subject-specific terms.</td>\n",
       "      <td>NaN</td>\n",
       "    </tr>\n",
       "    <tr>\n",
       "      <th>2</th>\n",
       "      <td>bh446wm7842</td>\n",
       "      <td>https://argo.stanford.edu/view/druid:bh446wm7842</td>\n",
       "      <td>https://purl.stanford.edu/bh446wm7842</td>\n",
       "      <td>Telmet, Kaja, 1950 Oral history interview with...</td>\n",
       "      <td>Clear spoken audio, in Estonian. We have Russi...</td>\n",
       "      <td>Estonian</td>\n",
       "      <td>9642</td>\n",
       "      <td>0:00:03</td>\n",
       "      <td>Run through medium and large models, obtain Es...</td>\n",
       "      <td>Yes (vtt, English and Russian)</td>\n",
       "      <td>Translation (Estonian to English or Russian). ...</td>\n",
       "      <td>NaN</td>\n",
       "    </tr>\n",
       "    <tr>\n",
       "      <th>3</th>\n",
       "      <td>br525sp8033</td>\n",
       "      <td>https://argo.stanford.edu/view/druid:br525sp8033</td>\n",
       "      <td>https://purl.stanford.edu/br525sp8033</td>\n",
       "      <td>USSR Exhibit 401: \"German Destruction in USSR\"...</td>\n",
       "      <td>Clear spoken audio in Russian, some cracks and...</td>\n",
       "      <td>Russian</td>\n",
       "      <td>471</td>\n",
       "      <td>0:00:04</td>\n",
       "      <td>Run through medium and large models, obtain Ru...</td>\n",
       "      <td>Yes (vtt and txt, English and Russian)</td>\n",
       "      <td>Testing Russian transcription, and/or translat...</td>\n",
       "      <td>NaN</td>\n",
       "    </tr>\n",
       "    <tr>\n",
       "      <th>4</th>\n",
       "      <td>bw689yg2740</td>\n",
       "      <td>https://argo.stanford.edu/view/druid:bw689yg2740</td>\n",
       "      <td>https://purl.stanford.edu/bw689yg2740</td>\n",
       "      <td>Stanford University. Native American Cultural ...</td>\n",
       "      <td>Inconsistent audio quality due to mic placemen...</td>\n",
       "      <td>English</td>\n",
       "      <td>5080</td>\n",
       "      <td>0:00:04</td>\n",
       "      <td>Run through medium and large models, track tim...</td>\n",
       "      <td>Yes (vtt and txt, English)</td>\n",
       "      <td>Transcription, multiple speakers. Diarization ...</td>\n",
       "      <td>NaN</td>\n",
       "    </tr>\n",
       "  </tbody>\n",
       "</table>\n",
       "</div>"
      ],
      "text/plain": [
       "         Druid                                         Argo Link  \\\n",
       "0  bb158br2509  https://argo.stanford.edu/view/druid:bb158br2509   \n",
       "1  bg405cn7261  https://argo.stanford.edu/view/druid:bg405cn7261   \n",
       "2  bh446wm7842  https://argo.stanford.edu/view/druid:bh446wm7842   \n",
       "3  br525sp8033  https://argo.stanford.edu/view/druid:br525sp8033   \n",
       "4  bw689yg2740  https://argo.stanford.edu/view/druid:bw689yg2740   \n",
       "\n",
       "                                    PURL  \\\n",
       "0  https://purl.stanford.edu/bb158br2509   \n",
       "1  https://purl.stanford.edu/bg405cn7261   \n",
       "2  https://purl.stanford.edu/bh446wm7842   \n",
       "3  https://purl.stanford.edu/br525sp8033   \n",
       "4  https://purl.stanford.edu/bw689yg2740   \n",
       "\n",
       "                                               Title  \\\n",
       "0                               Project South - S611   \n",
       "1  Whitmire, Amanda L. Student work, copyright an...   \n",
       "2  Telmet, Kaja, 1950 Oral history interview with...   \n",
       "3  USSR Exhibit 401: \"German Destruction in USSR\"...   \n",
       "4  Stanford University. Native American Cultural ...   \n",
       "\n",
       "                                               Notes Source language  \\\n",
       "0  Clear spoken audio, persistant hum in the back...         English   \n",
       "1  Clear spoken audio, uses language and acronyms...         English   \n",
       "2  Clear spoken audio, in Estonian. We have Russi...        Estonian   \n",
       "3  Clear spoken audio in Russian, some cracks and...         Russian   \n",
       "4  Inconsistent audio quality due to mic placemen...         English   \n",
       "\n",
       "   Duration Speech Begins                                              Tasks  \\\n",
       "0      1842       0:00:02  Run through medium and large models, track tim...   \n",
       "1       655       0:00:24  Run through medium and large models, track tim...   \n",
       "2      9642       0:00:03  Run through medium and large models, obtain Es...   \n",
       "3       471       0:00:04  Run through medium and large models, obtain Ru...   \n",
       "4      5080       0:00:04  Run through medium and large models, track tim...   \n",
       "\n",
       "  Captions / Transcript File? (Type, Lang)  \\\n",
       "0               Yes (vtt and txt, English)   \n",
       "1               Yes (vtt and txt, English)   \n",
       "2           Yes (vtt, English and Russian)   \n",
       "3   Yes (vtt and txt, English and Russian)   \n",
       "4               Yes (vtt and txt, English)   \n",
       "\n",
       "                                       Testing Focus Redundant? Omit?  \n",
       "0  Preprocessing (remove background noise). Strai...              NaN  \n",
       "1   Transcription. Acronyms, subject-specific terms.              NaN  \n",
       "2  Translation (Estonian to English or Russian). ...              NaN  \n",
       "3  Testing Russian transcription, and/or translat...              NaN  \n",
       "4  Transcription, multiple speakers. Diarization ...              NaN  "
      ]
     },
     "execution_count": 1,
     "metadata": {},
     "output_type": "execute_result"
    }
   ],
   "source": [
    "import pandas\n",
    "\n",
    "sdr = pandas.read_csv('../sdr-data.csv')\n",
    "sdr.head(5)"
   ]
  },
  {
   "cell_type": "markdown",
   "id": "05d932c9-982a-4bc1-8596-5dbd27693329",
   "metadata": {},
   "source": [
    "## Whisper Results\n",
    "\n",
    "Next lets get the Whisper results for one of the test runs that were performed using the [RDS/DLSS GPU Workstation](https://docs.google.com/document/d/1k4fTuLUpT1S7WGtYTLPdE9pI_UwffiOW4-lcJKpIaW0/edit#heading=h.k6w3eccrwgdq)."
   ]
  },
  {
   "cell_type": "code",
   "execution_count": 29,
   "id": "10b66aaf-e0f8-4519-bd25-95325562645a",
   "metadata": {},
   "outputs": [
    {
     "data": {
      "text/html": [
       "<div>\n",
       "<style scoped>\n",
       "    .dataframe tbody tr th:only-of-type {\n",
       "        vertical-align: middle;\n",
       "    }\n",
       "\n",
       "    .dataframe tbody tr th {\n",
       "        vertical-align: top;\n",
       "    }\n",
       "\n",
       "    .dataframe thead th {\n",
       "        text-align: right;\n",
       "    }\n",
       "</style>\n",
       "<table border=\"1\" class=\"dataframe\">\n",
       "  <thead>\n",
       "    <tr style=\"text-align: right;\">\n",
       "      <th></th>\n",
       "      <th>run_id</th>\n",
       "      <th>druid</th>\n",
       "      <th>file</th>\n",
       "      <th>language</th>\n",
       "      <th>transcript_filename</th>\n",
       "      <th>transcript_language</th>\n",
       "      <th>runtime</th>\n",
       "      <th>wer</th>\n",
       "      <th>mer</th>\n",
       "      <th>wil</th>\n",
       "      <th>wip</th>\n",
       "      <th>hits</th>\n",
       "      <th>substitutions</th>\n",
       "      <th>insertions</th>\n",
       "      <th>deletions</th>\n",
       "      <th>diff</th>\n",
       "      <th>options</th>\n",
       "    </tr>\n",
       "  </thead>\n",
       "  <tbody>\n",
       "    <tr>\n",
       "      <th>0</th>\n",
       "      <td>bb158br2509-whisper-021</td>\n",
       "      <td>bb158br2509</td>\n",
       "      <td>bb158br2509_sl.m4a</td>\n",
       "      <td>en</td>\n",
       "      <td>bb158br2509_script.txt</td>\n",
       "      <td>en</td>\n",
       "      <td>277.444349</td>\n",
       "      <td>0.055188</td>\n",
       "      <td>0.054538</td>\n",
       "      <td>0.076508</td>\n",
       "      <td>0.923492</td>\n",
       "      <td>4334</td>\n",
       "      <td>102</td>\n",
       "      <td>54</td>\n",
       "      <td>94</td>\n",
       "      <td>https://sul-dlss.github.io/whisper-pilot/output-2024-04-11/bb158br2509-whisper-021.html</td>\n",
       "      <td>{'model_name': 'large', 'beam_size': 5, 'patience': 2.0, 'condition_on_previous_text': True, 'best_of': 5}</td>\n",
       "    </tr>\n",
       "    <tr>\n",
       "      <th>1</th>\n",
       "      <td>bb158br2509-whisper-022</td>\n",
       "      <td>bb158br2509</td>\n",
       "      <td>bb158br2509_sl.m4a</td>\n",
       "      <td>en</td>\n",
       "      <td>bb158br2509_script.txt</td>\n",
       "      <td>en</td>\n",
       "      <td>277.511495</td>\n",
       "      <td>0.055188</td>\n",
       "      <td>0.054538</td>\n",
       "      <td>0.076508</td>\n",
       "      <td>0.923492</td>\n",
       "      <td>4334</td>\n",
       "      <td>102</td>\n",
       "      <td>54</td>\n",
       "      <td>94</td>\n",
       "      <td>https://sul-dlss.github.io/whisper-pilot/output-2024-04-11/bb158br2509-whisper-022.html</td>\n",
       "      <td>{'model_name': 'large', 'beam_size': 5, 'patience': 2.0, 'condition_on_previous_text': True, 'best_of': 10}</td>\n",
       "    </tr>\n",
       "    <tr>\n",
       "      <th>2</th>\n",
       "      <td>bb158br2509-whisper-037</td>\n",
       "      <td>bb158br2509</td>\n",
       "      <td>bb158br2509_sl.m4a</td>\n",
       "      <td>en</td>\n",
       "      <td>bb158br2509_script.txt</td>\n",
       "      <td>en</td>\n",
       "      <td>277.280526</td>\n",
       "      <td>0.055188</td>\n",
       "      <td>0.054538</td>\n",
       "      <td>0.076508</td>\n",
       "      <td>0.923492</td>\n",
       "      <td>4334</td>\n",
       "      <td>102</td>\n",
       "      <td>54</td>\n",
       "      <td>94</td>\n",
       "      <td>https://sul-dlss.github.io/whisper-pilot/output-2024-04-11/bb158br2509-whisper-037.html</td>\n",
       "      <td>{'model_name': 'large-v3', 'beam_size': 5, 'patience': 2.0, 'condition_on_previous_text': True, 'best_of': 5}</td>\n",
       "    </tr>\n",
       "    <tr>\n",
       "      <th>3</th>\n",
       "      <td>bb158br2509-whisper-038</td>\n",
       "      <td>bb158br2509</td>\n",
       "      <td>bb158br2509_sl.m4a</td>\n",
       "      <td>en</td>\n",
       "      <td>bb158br2509_script.txt</td>\n",
       "      <td>en</td>\n",
       "      <td>277.261359</td>\n",
       "      <td>0.055188</td>\n",
       "      <td>0.054538</td>\n",
       "      <td>0.076508</td>\n",
       "      <td>0.923492</td>\n",
       "      <td>4334</td>\n",
       "      <td>102</td>\n",
       "      <td>54</td>\n",
       "      <td>94</td>\n",
       "      <td>https://sul-dlss.github.io/whisper-pilot/output-2024-04-11/bb158br2509-whisper-038.html</td>\n",
       "      <td>{'model_name': 'large-v3', 'beam_size': 5, 'patience': 2.0, 'condition_on_previous_text': True, 'best_of': 10}</td>\n",
       "    </tr>\n",
       "    <tr>\n",
       "      <th>4</th>\n",
       "      <td>bb158br2509-whisper-017</td>\n",
       "      <td>bb158br2509</td>\n",
       "      <td>bb158br2509_sl.m4a</td>\n",
       "      <td>en</td>\n",
       "      <td>bb158br2509_script.txt</td>\n",
       "      <td>en</td>\n",
       "      <td>276.907950</td>\n",
       "      <td>0.058499</td>\n",
       "      <td>0.057659</td>\n",
       "      <td>0.079835</td>\n",
       "      <td>0.920165</td>\n",
       "      <td>4331</td>\n",
       "      <td>103</td>\n",
       "      <td>66</td>\n",
       "      <td>96</td>\n",
       "      <td>https://sul-dlss.github.io/whisper-pilot/output-2024-04-11/bb158br2509-whisper-017.html</td>\n",
       "      <td>{'model_name': 'large', 'beam_size': 5, 'patience': 1.0, 'condition_on_previous_text': True, 'best_of': 5}</td>\n",
       "    </tr>\n",
       "  </tbody>\n",
       "</table>\n",
       "</div>"
      ],
      "text/plain": [
       "                    run_id        druid                file language  \\\n",
       "0  bb158br2509-whisper-021  bb158br2509  bb158br2509_sl.m4a       en   \n",
       "1  bb158br2509-whisper-022  bb158br2509  bb158br2509_sl.m4a       en   \n",
       "2  bb158br2509-whisper-037  bb158br2509  bb158br2509_sl.m4a       en   \n",
       "3  bb158br2509-whisper-038  bb158br2509  bb158br2509_sl.m4a       en   \n",
       "4  bb158br2509-whisper-017  bb158br2509  bb158br2509_sl.m4a       en   \n",
       "\n",
       "      transcript_filename transcript_language     runtime       wer       mer  \\\n",
       "0  bb158br2509_script.txt                  en  277.444349  0.055188  0.054538   \n",
       "1  bb158br2509_script.txt                  en  277.511495  0.055188  0.054538   \n",
       "2  bb158br2509_script.txt                  en  277.280526  0.055188  0.054538   \n",
       "3  bb158br2509_script.txt                  en  277.261359  0.055188  0.054538   \n",
       "4  bb158br2509_script.txt                  en  276.907950  0.058499  0.057659   \n",
       "\n",
       "        wil       wip  hits  substitutions  insertions  deletions  \\\n",
       "0  0.076508  0.923492  4334            102          54         94   \n",
       "1  0.076508  0.923492  4334            102          54         94   \n",
       "2  0.076508  0.923492  4334            102          54         94   \n",
       "3  0.076508  0.923492  4334            102          54         94   \n",
       "4  0.079835  0.920165  4331            103          66         96   \n",
       "\n",
       "                                                                                      diff  \\\n",
       "0  https://sul-dlss.github.io/whisper-pilot/output-2024-04-11/bb158br2509-whisper-021.html   \n",
       "1  https://sul-dlss.github.io/whisper-pilot/output-2024-04-11/bb158br2509-whisper-022.html   \n",
       "2  https://sul-dlss.github.io/whisper-pilot/output-2024-04-11/bb158br2509-whisper-037.html   \n",
       "3  https://sul-dlss.github.io/whisper-pilot/output-2024-04-11/bb158br2509-whisper-038.html   \n",
       "4  https://sul-dlss.github.io/whisper-pilot/output-2024-04-11/bb158br2509-whisper-017.html   \n",
       "\n",
       "                                                                                                          options  \n",
       "0      {'model_name': 'large', 'beam_size': 5, 'patience': 2.0, 'condition_on_previous_text': True, 'best_of': 5}  \n",
       "1     {'model_name': 'large', 'beam_size': 5, 'patience': 2.0, 'condition_on_previous_text': True, 'best_of': 10}  \n",
       "2   {'model_name': 'large-v3', 'beam_size': 5, 'patience': 2.0, 'condition_on_previous_text': True, 'best_of': 5}  \n",
       "3  {'model_name': 'large-v3', 'beam_size': 5, 'patience': 2.0, 'condition_on_previous_text': True, 'best_of': 10}  \n",
       "4      {'model_name': 'large', 'beam_size': 5, 'patience': 1.0, 'condition_on_previous_text': True, 'best_of': 5}  "
      ]
     },
     "execution_count": 29,
     "metadata": {},
     "output_type": "execute_result"
    }
   ],
   "source": [
    "whisper = pandas.read_csv('../docs/output-2024-04-11/report-whisper.csv')\n",
    "whisper.head(5)"
   ]
  },
  {
   "cell_type": "markdown",
   "id": "1368ea37-d8db-4459-853f-5fd1cfbfcf42",
   "metadata": {},
   "source": [
    "## Processing the Backlog with Whisper\n",
    "\n",
    "Andrew Berger did some analysis of publicly available SDR media content which would benefit from transcription. He found 48,824 hours of content (175,766,400 seconds).\n",
    "\n",
    "Based on our Whisper results how long would it take to process this content sequentially using equivalent hardware to the GPU Workstation? Note, this hardware only supports one process accessing the Whisper Large model at a time.\n",
    "\n",
    "The Whisper results include multiple runs with the same file but with different options. Lets get the runtime for each file using the Whisper default options and the 'large' model to estimate."
   ]
  },
  {
   "cell_type": "code",
   "execution_count": 30,
   "id": "d628df57-ba47-439a-8f81-63bb57034dcf",
   "metadata": {},
   "outputs": [
    {
     "data": {
      "text/html": [
       "<div>\n",
       "<style scoped>\n",
       "    .dataframe tbody tr th:only-of-type {\n",
       "        vertical-align: middle;\n",
       "    }\n",
       "\n",
       "    .dataframe tbody tr th {\n",
       "        vertical-align: top;\n",
       "    }\n",
       "\n",
       "    .dataframe thead th {\n",
       "        text-align: right;\n",
       "    }\n",
       "</style>\n",
       "<table border=\"1\" class=\"dataframe\">\n",
       "  <thead>\n",
       "    <tr style=\"text-align: right;\">\n",
       "      <th></th>\n",
       "      <th>run_id</th>\n",
       "      <th>file</th>\n",
       "      <th>language</th>\n",
       "      <th>transcript_filename</th>\n",
       "      <th>transcript_language</th>\n",
       "      <th>runtime</th>\n",
       "      <th>wer</th>\n",
       "      <th>mer</th>\n",
       "      <th>wil</th>\n",
       "      <th>wip</th>\n",
       "      <th>hits</th>\n",
       "      <th>substitutions</th>\n",
       "      <th>insertions</th>\n",
       "      <th>deletions</th>\n",
       "      <th>diff</th>\n",
       "      <th>options</th>\n",
       "    </tr>\n",
       "    <tr>\n",
       "      <th>druid</th>\n",
       "      <th></th>\n",
       "      <th></th>\n",
       "      <th></th>\n",
       "      <th></th>\n",
       "      <th></th>\n",
       "      <th></th>\n",
       "      <th></th>\n",
       "      <th></th>\n",
       "      <th></th>\n",
       "      <th></th>\n",
       "      <th></th>\n",
       "      <th></th>\n",
       "      <th></th>\n",
       "      <th></th>\n",
       "      <th></th>\n",
       "      <th></th>\n",
       "    </tr>\n",
       "  </thead>\n",
       "  <tbody>\n",
       "    <tr>\n",
       "      <th>bb158br2509</th>\n",
       "      <td>bb158br2509-whisper-017</td>\n",
       "      <td>bb158br2509_sl.m4a</td>\n",
       "      <td>en</td>\n",
       "      <td>bb158br2509_script.txt</td>\n",
       "      <td>en</td>\n",
       "      <td>276.907950</td>\n",
       "      <td>0.058499</td>\n",
       "      <td>0.057659</td>\n",
       "      <td>0.079835</td>\n",
       "      <td>0.920165</td>\n",
       "      <td>4331</td>\n",
       "      <td>103</td>\n",
       "      <td>66</td>\n",
       "      <td>96</td>\n",
       "      <td>https://sul-dlss.github.io/whisper-pilot/output-2024-04-11/bb158br2509-whisper-017.html</td>\n",
       "      <td>{'model_name': 'large', 'beam_size': 5, 'patience': 1.0, 'condition_on_previous_text': True, 'best_of': 5}</td>\n",
       "    </tr>\n",
       "    <tr>\n",
       "      <th>bg405cn7261</th>\n",
       "      <td>bg405cn7261-whisper-065</td>\n",
       "      <td>bg405cn7261_v2_sl.mp4</td>\n",
       "      <td>en</td>\n",
       "      <td>bg405cn7261_v2_sl_script.txt</td>\n",
       "      <td>en</td>\n",
       "      <td>148.304139</td>\n",
       "      <td>0.062193</td>\n",
       "      <td>0.059406</td>\n",
       "      <td>0.069897</td>\n",
       "      <td>0.930103</td>\n",
       "      <td>1805</td>\n",
       "      <td>20</td>\n",
       "      <td>86</td>\n",
       "      <td>8</td>\n",
       "      <td>https://sul-dlss.github.io/whisper-pilot/output-2024-04-11/bg405cn7261-whisper-065.html</td>\n",
       "      <td>{'model_name': 'large', 'beam_size': 5, 'patience': 1.0, 'condition_on_previous_text': True, 'best_of': 5}</td>\n",
       "    </tr>\n",
       "    <tr>\n",
       "      <th>bw689yg2740</th>\n",
       "      <td>bw689yg2740-whisper-161</td>\n",
       "      <td>bw689yg2740_sl.mp4</td>\n",
       "      <td>en</td>\n",
       "      <td>bw689yg2740_script.txt</td>\n",
       "      <td>en</td>\n",
       "      <td>971.707062</td>\n",
       "      <td>0.130416</td>\n",
       "      <td>0.122103</td>\n",
       "      <td>0.159572</td>\n",
       "      <td>0.840428</td>\n",
       "      <td>10605</td>\n",
       "      <td>457</td>\n",
       "      <td>770</td>\n",
       "      <td>248</td>\n",
       "      <td>https://sul-dlss.github.io/whisper-pilot/output-2024-04-11/bw689yg2740-whisper-161.html</td>\n",
       "      <td>{'model_name': 'large', 'beam_size': 5, 'patience': 1.0, 'condition_on_previous_text': True, 'best_of': 5}</td>\n",
       "    </tr>\n",
       "    <tr>\n",
       "      <th>fh290wd1772</th>\n",
       "      <td>fh290wd1772-whisper-209</td>\n",
       "      <td>fh290wd1772_v2_sp_sl.m4a</td>\n",
       "      <td>en</td>\n",
       "      <td>fh290wd1772_v2_sp_sl_script.txt</td>\n",
       "      <td>en</td>\n",
       "      <td>30.420051</td>\n",
       "      <td>0.333333</td>\n",
       "      <td>0.318560</td>\n",
       "      <td>0.419177</td>\n",
       "      <td>0.580823</td>\n",
       "      <td>246</td>\n",
       "      <td>40</td>\n",
       "      <td>16</td>\n",
       "      <td>59</td>\n",
       "      <td>https://sul-dlss.github.io/whisper-pilot/output-2024-04-11/fh290wd1772-whisper-209.html</td>\n",
       "      <td>{'model_name': 'large', 'beam_size': 5, 'patience': 1.0, 'condition_on_previous_text': True, 'best_of': 5}</td>\n",
       "    </tr>\n",
       "    <tr>\n",
       "      <th>gj097zq7635</th>\n",
       "      <td>gj097zq7635-whisper-257</td>\n",
       "      <td>gj097zq7635_a_sl.m4a</td>\n",
       "      <td>en</td>\n",
       "      <td>gj097zq7635_a_sl_script.txt</td>\n",
       "      <td>en</td>\n",
       "      <td>531.052633</td>\n",
       "      <td>0.132694</td>\n",
       "      <td>0.124085</td>\n",
       "      <td>0.165208</td>\n",
       "      <td>0.834792</td>\n",
       "      <td>6939</td>\n",
       "      <td>333</td>\n",
       "      <td>514</td>\n",
       "      <td>136</td>\n",
       "      <td>https://sul-dlss.github.io/whisper-pilot/output-2024-04-11/gj097zq7635-whisper-257.html</td>\n",
       "      <td>{'model_name': 'large', 'beam_size': 5, 'patience': 1.0, 'condition_on_previous_text': True, 'best_of': 5}</td>\n",
       "    </tr>\n",
       "  </tbody>\n",
       "</table>\n",
       "</div>"
      ],
      "text/plain": [
       "                              run_id                      file language  \\\n",
       "druid                                                                     \n",
       "bb158br2509  bb158br2509-whisper-017        bb158br2509_sl.m4a       en   \n",
       "bg405cn7261  bg405cn7261-whisper-065     bg405cn7261_v2_sl.mp4       en   \n",
       "bw689yg2740  bw689yg2740-whisper-161        bw689yg2740_sl.mp4       en   \n",
       "fh290wd1772  fh290wd1772-whisper-209  fh290wd1772_v2_sp_sl.m4a       en   \n",
       "gj097zq7635  gj097zq7635-whisper-257      gj097zq7635_a_sl.m4a       en   \n",
       "\n",
       "                         transcript_filename transcript_language     runtime  \\\n",
       "druid                                                                          \n",
       "bb158br2509           bb158br2509_script.txt                  en  276.907950   \n",
       "bg405cn7261     bg405cn7261_v2_sl_script.txt                  en  148.304139   \n",
       "bw689yg2740           bw689yg2740_script.txt                  en  971.707062   \n",
       "fh290wd1772  fh290wd1772_v2_sp_sl_script.txt                  en   30.420051   \n",
       "gj097zq7635      gj097zq7635_a_sl_script.txt                  en  531.052633   \n",
       "\n",
       "                  wer       mer       wil       wip   hits  substitutions  \\\n",
       "druid                                                                       \n",
       "bb158br2509  0.058499  0.057659  0.079835  0.920165   4331            103   \n",
       "bg405cn7261  0.062193  0.059406  0.069897  0.930103   1805             20   \n",
       "bw689yg2740  0.130416  0.122103  0.159572  0.840428  10605            457   \n",
       "fh290wd1772  0.333333  0.318560  0.419177  0.580823    246             40   \n",
       "gj097zq7635  0.132694  0.124085  0.165208  0.834792   6939            333   \n",
       "\n",
       "             insertions  deletions  \\\n",
       "druid                                \n",
       "bb158br2509          66         96   \n",
       "bg405cn7261          86          8   \n",
       "bw689yg2740         770        248   \n",
       "fh290wd1772          16         59   \n",
       "gj097zq7635         514        136   \n",
       "\n",
       "                                                                                                diff  \\\n",
       "druid                                                                                                  \n",
       "bb158br2509  https://sul-dlss.github.io/whisper-pilot/output-2024-04-11/bb158br2509-whisper-017.html   \n",
       "bg405cn7261  https://sul-dlss.github.io/whisper-pilot/output-2024-04-11/bg405cn7261-whisper-065.html   \n",
       "bw689yg2740  https://sul-dlss.github.io/whisper-pilot/output-2024-04-11/bw689yg2740-whisper-161.html   \n",
       "fh290wd1772  https://sul-dlss.github.io/whisper-pilot/output-2024-04-11/fh290wd1772-whisper-209.html   \n",
       "gj097zq7635  https://sul-dlss.github.io/whisper-pilot/output-2024-04-11/gj097zq7635-whisper-257.html   \n",
       "\n",
       "                                                                                                                options  \n",
       "druid                                                                                                                    \n",
       "bb158br2509  {'model_name': 'large', 'beam_size': 5, 'patience': 1.0, 'condition_on_previous_text': True, 'best_of': 5}  \n",
       "bg405cn7261  {'model_name': 'large', 'beam_size': 5, 'patience': 1.0, 'condition_on_previous_text': True, 'best_of': 5}  \n",
       "bw689yg2740  {'model_name': 'large', 'beam_size': 5, 'patience': 1.0, 'condition_on_previous_text': True, 'best_of': 5}  \n",
       "fh290wd1772  {'model_name': 'large', 'beam_size': 5, 'patience': 1.0, 'condition_on_previous_text': True, 'best_of': 5}  \n",
       "gj097zq7635  {'model_name': 'large', 'beam_size': 5, 'patience': 1.0, 'condition_on_previous_text': True, 'best_of': 5}  "
      ]
     },
     "execution_count": 30,
     "metadata": {},
     "output_type": "execute_result"
    }
   ],
   "source": [
    "whisper = whisper[whisper.options == \"{'model_name': 'large', 'beam_size': 5, 'patience': 1.0, 'condition_on_previous_text': True, 'best_of': 5}\"]\n",
    "whisper = whisper.set_index('druid')\n",
    "whisper.head(5)"
   ]
  },
  {
   "cell_type": "markdown",
   "id": "44b8c66d-86ef-498b-b60a-f05d360b158a",
   "metadata": {},
   "source": [
    "Now the Duration from the SDR data can be joined in:"
   ]
  },
  {
   "cell_type": "code",
   "execution_count": 31,
   "id": "cd757351-cf3b-4252-a38d-45f95df35fc8",
   "metadata": {},
   "outputs": [
    {
     "data": {
      "text/html": [
       "<div>\n",
       "<style scoped>\n",
       "    .dataframe tbody tr th:only-of-type {\n",
       "        vertical-align: middle;\n",
       "    }\n",
       "\n",
       "    .dataframe tbody tr th {\n",
       "        vertical-align: top;\n",
       "    }\n",
       "\n",
       "    .dataframe thead th {\n",
       "        text-align: right;\n",
       "    }\n",
       "</style>\n",
       "<table border=\"1\" class=\"dataframe\">\n",
       "  <thead>\n",
       "    <tr style=\"text-align: right;\">\n",
       "      <th></th>\n",
       "      <th>run_id</th>\n",
       "      <th>file</th>\n",
       "      <th>language</th>\n",
       "      <th>transcript_filename</th>\n",
       "      <th>transcript_language</th>\n",
       "      <th>runtime</th>\n",
       "      <th>wer</th>\n",
       "      <th>mer</th>\n",
       "      <th>wil</th>\n",
       "      <th>wip</th>\n",
       "      <th>...</th>\n",
       "      <th>PURL</th>\n",
       "      <th>Title</th>\n",
       "      <th>Notes</th>\n",
       "      <th>Source language</th>\n",
       "      <th>Duration</th>\n",
       "      <th>Speech Begins</th>\n",
       "      <th>Tasks</th>\n",
       "      <th>Captions / Transcript File? (Type, Lang)</th>\n",
       "      <th>Testing Focus</th>\n",
       "      <th>Redundant? Omit?</th>\n",
       "    </tr>\n",
       "    <tr>\n",
       "      <th>druid</th>\n",
       "      <th></th>\n",
       "      <th></th>\n",
       "      <th></th>\n",
       "      <th></th>\n",
       "      <th></th>\n",
       "      <th></th>\n",
       "      <th></th>\n",
       "      <th></th>\n",
       "      <th></th>\n",
       "      <th></th>\n",
       "      <th></th>\n",
       "      <th></th>\n",
       "      <th></th>\n",
       "      <th></th>\n",
       "      <th></th>\n",
       "      <th></th>\n",
       "      <th></th>\n",
       "      <th></th>\n",
       "      <th></th>\n",
       "      <th></th>\n",
       "      <th></th>\n",
       "    </tr>\n",
       "  </thead>\n",
       "  <tbody>\n",
       "    <tr>\n",
       "      <th>bb158br2509</th>\n",
       "      <td>bb158br2509-whisper-017</td>\n",
       "      <td>bb158br2509_sl.m4a</td>\n",
       "      <td>en</td>\n",
       "      <td>bb158br2509_script.txt</td>\n",
       "      <td>en</td>\n",
       "      <td>276.907950</td>\n",
       "      <td>0.058499</td>\n",
       "      <td>0.057659</td>\n",
       "      <td>0.079835</td>\n",
       "      <td>0.920165</td>\n",
       "      <td>...</td>\n",
       "      <td>https://purl.stanford.edu/bb158br2509</td>\n",
       "      <td>Project South - S611</td>\n",
       "      <td>Clear spoken audio, persistant hum in the background that may cause an issue with speech detection.</td>\n",
       "      <td>English</td>\n",
       "      <td>1842</td>\n",
       "      <td>0:00:02</td>\n",
       "      <td>Run through medium and large models, track time and assess quality</td>\n",
       "      <td>Yes (vtt and txt, English)</td>\n",
       "      <td>Preprocessing (remove background noise). Straightforward transcription task, good for testing model parameters.</td>\n",
       "      <td>NaN</td>\n",
       "    </tr>\n",
       "    <tr>\n",
       "      <th>bg405cn7261</th>\n",
       "      <td>bg405cn7261-whisper-065</td>\n",
       "      <td>bg405cn7261_v2_sl.mp4</td>\n",
       "      <td>en</td>\n",
       "      <td>bg405cn7261_v2_sl_script.txt</td>\n",
       "      <td>en</td>\n",
       "      <td>148.304139</td>\n",
       "      <td>0.062193</td>\n",
       "      <td>0.059406</td>\n",
       "      <td>0.069897</td>\n",
       "      <td>0.930103</td>\n",
       "      <td>...</td>\n",
       "      <td>https://purl.stanford.edu/bg405cn7261</td>\n",
       "      <td>Whitmire, Amanda L. Student work, copyright and FERPA: how what you don't know might FERP-YA: Stanford (Calif.), 2020-02-10</td>\n",
       "      <td>Clear spoken audio, uses language and acronyms that might be challenging for Whisper. Interestingly the auto-captions that are burned in are inaccurate.</td>\n",
       "      <td>English</td>\n",
       "      <td>655</td>\n",
       "      <td>0:00:24</td>\n",
       "      <td>Run through medium and large models, track time and assess quality</td>\n",
       "      <td>Yes (vtt and txt, English)</td>\n",
       "      <td>Transcription. Acronyms, subject-specific terms.</td>\n",
       "      <td>NaN</td>\n",
       "    </tr>\n",
       "    <tr>\n",
       "      <th>bw689yg2740</th>\n",
       "      <td>bw689yg2740-whisper-161</td>\n",
       "      <td>bw689yg2740_sl.mp4</td>\n",
       "      <td>en</td>\n",
       "      <td>bw689yg2740_script.txt</td>\n",
       "      <td>en</td>\n",
       "      <td>971.707062</td>\n",
       "      <td>0.130416</td>\n",
       "      <td>0.122103</td>\n",
       "      <td>0.159572</td>\n",
       "      <td>0.840428</td>\n",
       "      <td>...</td>\n",
       "      <td>https://purl.stanford.edu/bw689yg2740</td>\n",
       "      <td>Stanford University. Native American Cultural Center Native American Research Forum : Honoring Native Scholarship. Tape #1: Stanford (Calif.), 1995-04-08</td>\n",
       "      <td>Inconsistent audio quality due to mic placement, multiple languages (including native languages), tribal names, acronyms, proper nouns.</td>\n",
       "      <td>English</td>\n",
       "      <td>5080</td>\n",
       "      <td>0:00:04</td>\n",
       "      <td>Run through medium and large models, track time and assess quality</td>\n",
       "      <td>Yes (vtt and txt, English)</td>\n",
       "      <td>Transcription, multiple speakers. Diarization (if applicable).</td>\n",
       "      <td>NaN</td>\n",
       "    </tr>\n",
       "    <tr>\n",
       "      <th>fh290wd1772</th>\n",
       "      <td>fh290wd1772-whisper-209</td>\n",
       "      <td>fh290wd1772_v2_sp_sl.m4a</td>\n",
       "      <td>en</td>\n",
       "      <td>fh290wd1772_v2_sp_sl_script.txt</td>\n",
       "      <td>en</td>\n",
       "      <td>30.420051</td>\n",
       "      <td>0.333333</td>\n",
       "      <td>0.318560</td>\n",
       "      <td>0.419177</td>\n",
       "      <td>0.580823</td>\n",
       "      <td>...</td>\n",
       "      <td>https://purl.stanford.edu/fh290wd1772</td>\n",
       "      <td>I Don't Know Where I'm Goin' But I'm On My Way</td>\n",
       "      <td>Oldest format in our collections, decent audio quality but has pops/crackles. No corresponding Rev file, although we can easily get one.</td>\n",
       "      <td>English</td>\n",
       "      <td>133</td>\n",
       "      <td>0:00:00</td>\n",
       "      <td>Run through medium and large models, track time and assess quality</td>\n",
       "      <td>Yes (vtt and txt, English)</td>\n",
       "      <td>Transcription. Media with degraded/low quality audio.</td>\n",
       "      <td>NaN</td>\n",
       "    </tr>\n",
       "    <tr>\n",
       "      <th>gj097zq7635</th>\n",
       "      <td>gj097zq7635-whisper-257</td>\n",
       "      <td>gj097zq7635_a_sl.m4a</td>\n",
       "      <td>en</td>\n",
       "      <td>gj097zq7635_a_sl_script.txt</td>\n",
       "      <td>en</td>\n",
       "      <td>531.052633</td>\n",
       "      <td>0.132694</td>\n",
       "      <td>0.124085</td>\n",
       "      <td>0.165208</td>\n",
       "      <td>0.834792</td>\n",
       "      <td>...</td>\n",
       "      <td>https://purl.stanford.edu/gj097zq7635</td>\n",
       "      <td>Graff, Leonard Leonard Graff of National Gay Rights Advocates (NGRA) at GLAS. Intro by Jeff Golden of the Stanford Gay and Lesbian Law Students Association: Stanford (Calif.), 1984-02-22</td>\n",
       "      <td>Inconsistent audio quality, many speakers in a room. Some jargon and legalease.</td>\n",
       "      <td>English</td>\n",
       "      <td>2849</td>\n",
       "      <td>0:00:00</td>\n",
       "      <td>Run through medium and large models, track time and assess quality</td>\n",
       "      <td>Yes (vtt and txt, English)</td>\n",
       "      <td>Preprocessing (remove background noise). Transcription, multiple speakers. Long duration.</td>\n",
       "      <td>NaN</td>\n",
       "    </tr>\n",
       "  </tbody>\n",
       "</table>\n",
       "<p>5 rows × 27 columns</p>\n",
       "</div>"
      ],
      "text/plain": [
       "                              run_id                      file language  \\\n",
       "druid                                                                     \n",
       "bb158br2509  bb158br2509-whisper-017        bb158br2509_sl.m4a       en   \n",
       "bg405cn7261  bg405cn7261-whisper-065     bg405cn7261_v2_sl.mp4       en   \n",
       "bw689yg2740  bw689yg2740-whisper-161        bw689yg2740_sl.mp4       en   \n",
       "fh290wd1772  fh290wd1772-whisper-209  fh290wd1772_v2_sp_sl.m4a       en   \n",
       "gj097zq7635  gj097zq7635-whisper-257      gj097zq7635_a_sl.m4a       en   \n",
       "\n",
       "                         transcript_filename transcript_language     runtime  \\\n",
       "druid                                                                          \n",
       "bb158br2509           bb158br2509_script.txt                  en  276.907950   \n",
       "bg405cn7261     bg405cn7261_v2_sl_script.txt                  en  148.304139   \n",
       "bw689yg2740           bw689yg2740_script.txt                  en  971.707062   \n",
       "fh290wd1772  fh290wd1772_v2_sp_sl_script.txt                  en   30.420051   \n",
       "gj097zq7635      gj097zq7635_a_sl_script.txt                  en  531.052633   \n",
       "\n",
       "                  wer       mer       wil       wip  ...  \\\n",
       "druid                                                ...   \n",
       "bb158br2509  0.058499  0.057659  0.079835  0.920165  ...   \n",
       "bg405cn7261  0.062193  0.059406  0.069897  0.930103  ...   \n",
       "bw689yg2740  0.130416  0.122103  0.159572  0.840428  ...   \n",
       "fh290wd1772  0.333333  0.318560  0.419177  0.580823  ...   \n",
       "gj097zq7635  0.132694  0.124085  0.165208  0.834792  ...   \n",
       "\n",
       "                                              PURL  \\\n",
       "druid                                                \n",
       "bb158br2509  https://purl.stanford.edu/bb158br2509   \n",
       "bg405cn7261  https://purl.stanford.edu/bg405cn7261   \n",
       "bw689yg2740  https://purl.stanford.edu/bw689yg2740   \n",
       "fh290wd1772  https://purl.stanford.edu/fh290wd1772   \n",
       "gj097zq7635  https://purl.stanford.edu/gj097zq7635   \n",
       "\n",
       "                                                                                                                                                                                                  Title  \\\n",
       "druid                                                                                                                                                                                                     \n",
       "bb158br2509                                                                                                                                                                        Project South - S611   \n",
       "bg405cn7261                                                                 Whitmire, Amanda L. Student work, copyright and FERPA: how what you don't know might FERP-YA: Stanford (Calif.), 2020-02-10   \n",
       "bw689yg2740                                   Stanford University. Native American Cultural Center Native American Research Forum : Honoring Native Scholarship. Tape #1: Stanford (Calif.), 1995-04-08   \n",
       "fh290wd1772                                                                                                                                              I Don't Know Where I'm Goin' But I'm On My Way   \n",
       "gj097zq7635  Graff, Leonard Leonard Graff of National Gay Rights Advocates (NGRA) at GLAS. Intro by Jeff Golden of the Stanford Gay and Lesbian Law Students Association: Stanford (Calif.), 1984-02-22   \n",
       "\n",
       "                                                                                                                                                                 Notes  \\\n",
       "druid                                                                                                                                                                    \n",
       "bb158br2509                                                       Clear spoken audio, persistant hum in the background that may cause an issue with speech detection.    \n",
       "bg405cn7261  Clear spoken audio, uses language and acronyms that might be challenging for Whisper. Interestingly the auto-captions that are burned in are inaccurate.    \n",
       "bw689yg2740                    Inconsistent audio quality due to mic placement, multiple languages (including native languages), tribal names, acronyms, proper nouns.   \n",
       "fh290wd1772                   Oldest format in our collections, decent audio quality but has pops/crackles. No corresponding Rev file, although we can easily get one.   \n",
       "gj097zq7635                                                                           Inconsistent audio quality, many speakers in a room. Some jargon and legalease.    \n",
       "\n",
       "             Source language Duration Speech Begins  \\\n",
       "druid                                                 \n",
       "bb158br2509          English     1842       0:00:02   \n",
       "bg405cn7261          English      655       0:00:24   \n",
       "bw689yg2740          English     5080       0:00:04   \n",
       "fh290wd1772          English      133       0:00:00   \n",
       "gj097zq7635          English     2849       0:00:00   \n",
       "\n",
       "                                                                           Tasks  \\\n",
       "druid                                                                              \n",
       "bb158br2509  Run through medium and large models, track time and assess quality    \n",
       "bg405cn7261  Run through medium and large models, track time and assess quality    \n",
       "bw689yg2740  Run through medium and large models, track time and assess quality    \n",
       "fh290wd1772  Run through medium and large models, track time and assess quality    \n",
       "gj097zq7635  Run through medium and large models, track time and assess quality    \n",
       "\n",
       "            Captions / Transcript File? (Type, Lang)  \\\n",
       "druid                                                  \n",
       "bb158br2509               Yes (vtt and txt, English)   \n",
       "bg405cn7261               Yes (vtt and txt, English)   \n",
       "bw689yg2740               Yes (vtt and txt, English)   \n",
       "fh290wd1772               Yes (vtt and txt, English)   \n",
       "gj097zq7635               Yes (vtt and txt, English)   \n",
       "\n",
       "                                                                                                               Testing Focus  \\\n",
       "druid                                                                                                                          \n",
       "bb158br2509  Preprocessing (remove background noise). Straightforward transcription task, good for testing model parameters.   \n",
       "bg405cn7261                                                                 Transcription. Acronyms, subject-specific terms.   \n",
       "bw689yg2740                                                   Transcription, multiple speakers. Diarization (if applicable).   \n",
       "fh290wd1772                                                            Transcription. Media with degraded/low quality audio.   \n",
       "gj097zq7635                        Preprocessing (remove background noise). Transcription, multiple speakers. Long duration.   \n",
       "\n",
       "            Redundant? Omit?  \n",
       "druid                         \n",
       "bb158br2509              NaN  \n",
       "bg405cn7261              NaN  \n",
       "bw689yg2740              NaN  \n",
       "fh290wd1772              NaN  \n",
       "gj097zq7635              NaN  \n",
       "\n",
       "[5 rows x 27 columns]"
      ]
     },
     "execution_count": 31,
     "metadata": {},
     "output_type": "execute_result"
    }
   ],
   "source": [
    "whisper = whisper.join(sdr.set_index('Druid'))\n",
    "whisper.head(5)"
   ]
  },
  {
   "cell_type": "markdown",
   "id": "2950f14f-4cd3-404a-b646-0531b96cf251",
   "metadata": {},
   "source": [
    "Add a `processing_rate` column in terms of a ratio of the duration of the media and the time it took to process it (both in seconds). You can think of this as seconds of media processed per second."
   ]
  },
  {
   "cell_type": "code",
   "execution_count": 32,
   "id": "54917d68-4c09-4dbe-8a35-1701e0bf3dd5",
   "metadata": {},
   "outputs": [
    {
     "data": {
      "text/html": [
       "<div>\n",
       "<style scoped>\n",
       "    .dataframe tbody tr th:only-of-type {\n",
       "        vertical-align: middle;\n",
       "    }\n",
       "\n",
       "    .dataframe tbody tr th {\n",
       "        vertical-align: top;\n",
       "    }\n",
       "\n",
       "    .dataframe thead th {\n",
       "        text-align: right;\n",
       "    }\n",
       "</style>\n",
       "<table border=\"1\" class=\"dataframe\">\n",
       "  <thead>\n",
       "    <tr style=\"text-align: right;\">\n",
       "      <th></th>\n",
       "      <th>Title</th>\n",
       "      <th>file</th>\n",
       "      <th>Duration</th>\n",
       "      <th>runtime</th>\n",
       "      <th>processing_rate</th>\n",
       "    </tr>\n",
       "    <tr>\n",
       "      <th>druid</th>\n",
       "      <th></th>\n",
       "      <th></th>\n",
       "      <th></th>\n",
       "      <th></th>\n",
       "      <th></th>\n",
       "    </tr>\n",
       "  </thead>\n",
       "  <tbody>\n",
       "    <tr>\n",
       "      <th>bb158br2509</th>\n",
       "      <td>Project South - S611</td>\n",
       "      <td>bb158br2509_sl.m4a</td>\n",
       "      <td>1842</td>\n",
       "      <td>276.907950</td>\n",
       "      <td>6.652030</td>\n",
       "    </tr>\n",
       "    <tr>\n",
       "      <th>bg405cn7261</th>\n",
       "      <td>Whitmire, Amanda L. Student work, copyright and FERPA: how what you don't know might FERP-YA: Stanford (Calif.), 2020-02-10</td>\n",
       "      <td>bg405cn7261_v2_sl.mp4</td>\n",
       "      <td>655</td>\n",
       "      <td>148.304139</td>\n",
       "      <td>4.416600</td>\n",
       "    </tr>\n",
       "    <tr>\n",
       "      <th>bw689yg2740</th>\n",
       "      <td>Stanford University. Native American Cultural Center Native American Research Forum : Honoring Native Scholarship. Tape #1: Stanford (Calif.), 1995-04-08</td>\n",
       "      <td>bw689yg2740_sl.mp4</td>\n",
       "      <td>5080</td>\n",
       "      <td>971.707062</td>\n",
       "      <td>5.227913</td>\n",
       "    </tr>\n",
       "    <tr>\n",
       "      <th>fh290wd1772</th>\n",
       "      <td>I Don't Know Where I'm Goin' But I'm On My Way</td>\n",
       "      <td>fh290wd1772_v2_sp_sl.m4a</td>\n",
       "      <td>133</td>\n",
       "      <td>30.420051</td>\n",
       "      <td>4.372116</td>\n",
       "    </tr>\n",
       "    <tr>\n",
       "      <th>gj097zq7635</th>\n",
       "      <td>Graff, Leonard Leonard Graff of National Gay Rights Advocates (NGRA) at GLAS. Intro by Jeff Golden of the Stanford Gay and Lesbian Law Students Association: Stanford (Calif.), 1984-02-22</td>\n",
       "      <td>gj097zq7635_a_sl.m4a</td>\n",
       "      <td>2849</td>\n",
       "      <td>531.052633</td>\n",
       "      <td>5.364817</td>\n",
       "    </tr>\n",
       "    <tr>\n",
       "      <th>gk220dt2833</th>\n",
       "      <td>Shan, Ali, 1941- Oral history with Ali Shan, 2011 August 21: Fremont (Calif.), 2011-08-21</td>\n",
       "      <td>gk220dt2833_Ali_Shan_10of10_sl.mp4</td>\n",
       "      <td>4463</td>\n",
       "      <td>180.118251</td>\n",
       "      <td>24.778166</td>\n",
       "    </tr>\n",
       "    <tr>\n",
       "      <th>gn213vd3845</th>\n",
       "      <td>Blesching, Uwe. Viva Chile m--: Logos Productions, [S.l.]</td>\n",
       "      <td>gn213vd3845_ev_1_sl.mp4</td>\n",
       "      <td>371</td>\n",
       "      <td>65.206824</td>\n",
       "      <td>5.689589</td>\n",
       "    </tr>\n",
       "    <tr>\n",
       "      <th>kp010zv7055</th>\n",
       "      <td>#28 Tangos, European Peace interviews</td>\n",
       "      <td>kp010zv7055_a_sl.m4a</td>\n",
       "      <td>1897</td>\n",
       "      <td>159.239696</td>\n",
       "      <td>11.912859</td>\n",
       "    </tr>\n",
       "    <tr>\n",
       "      <th>qf378nj5000</th>\n",
       "      <td>Genero, Jack Interviews with five striking Chicana/o students after three days into hunger strike: Stanford (Calif.), 1994-05-06</td>\n",
       "      <td>qf378nj5000_sl.mp4</td>\n",
       "      <td>2294</td>\n",
       "      <td>636.403302</td>\n",
       "      <td>3.604632</td>\n",
       "    </tr>\n",
       "    <tr>\n",
       "      <th>tc482fh1865</th>\n",
       "      <td>Wallace, Michelle An analysis of red algae cover in relation to Macrocystis pyrifera holdfast presence</td>\n",
       "      <td>tc482fh1865_kfe_project_2023_wallace_sl.mp4</td>\n",
       "      <td>246</td>\n",
       "      <td>101.539991</td>\n",
       "      <td>2.422691</td>\n",
       "    </tr>\n",
       "  </tbody>\n",
       "</table>\n",
       "</div>"
      ],
      "text/plain": [
       "                                                                                                                                                                                                  Title  \\\n",
       "druid                                                                                                                                                                                                     \n",
       "bb158br2509                                                                                                                                                                        Project South - S611   \n",
       "bg405cn7261                                                                 Whitmire, Amanda L. Student work, copyright and FERPA: how what you don't know might FERP-YA: Stanford (Calif.), 2020-02-10   \n",
       "bw689yg2740                                   Stanford University. Native American Cultural Center Native American Research Forum : Honoring Native Scholarship. Tape #1: Stanford (Calif.), 1995-04-08   \n",
       "fh290wd1772                                                                                                                                              I Don't Know Where I'm Goin' But I'm On My Way   \n",
       "gj097zq7635  Graff, Leonard Leonard Graff of National Gay Rights Advocates (NGRA) at GLAS. Intro by Jeff Golden of the Stanford Gay and Lesbian Law Students Association: Stanford (Calif.), 1984-02-22   \n",
       "gk220dt2833                                                                                                   Shan, Ali, 1941- Oral history with Ali Shan, 2011 August 21: Fremont (Calif.), 2011-08-21   \n",
       "gn213vd3845                                                                                                                                   Blesching, Uwe. Viva Chile m--: Logos Productions, [S.l.]   \n",
       "kp010zv7055                                                                                                                                                       #28 Tangos, European Peace interviews   \n",
       "qf378nj5000                                                            Genero, Jack Interviews with five striking Chicana/o students after three days into hunger strike: Stanford (Calif.), 1994-05-06   \n",
       "tc482fh1865                                                                                      Wallace, Michelle An analysis of red algae cover in relation to Macrocystis pyrifera holdfast presence   \n",
       "\n",
       "                                                    file  Duration  \\\n",
       "druid                                                                \n",
       "bb158br2509                           bb158br2509_sl.m4a      1842   \n",
       "bg405cn7261                        bg405cn7261_v2_sl.mp4       655   \n",
       "bw689yg2740                           bw689yg2740_sl.mp4      5080   \n",
       "fh290wd1772                     fh290wd1772_v2_sp_sl.m4a       133   \n",
       "gj097zq7635                         gj097zq7635_a_sl.m4a      2849   \n",
       "gk220dt2833           gk220dt2833_Ali_Shan_10of10_sl.mp4      4463   \n",
       "gn213vd3845                      gn213vd3845_ev_1_sl.mp4       371   \n",
       "kp010zv7055                         kp010zv7055_a_sl.m4a      1897   \n",
       "qf378nj5000                           qf378nj5000_sl.mp4      2294   \n",
       "tc482fh1865  tc482fh1865_kfe_project_2023_wallace_sl.mp4       246   \n",
       "\n",
       "                runtime  processing_rate  \n",
       "druid                                     \n",
       "bb158br2509  276.907950         6.652030  \n",
       "bg405cn7261  148.304139         4.416600  \n",
       "bw689yg2740  971.707062         5.227913  \n",
       "fh290wd1772   30.420051         4.372116  \n",
       "gj097zq7635  531.052633         5.364817  \n",
       "gk220dt2833  180.118251        24.778166  \n",
       "gn213vd3845   65.206824         5.689589  \n",
       "kp010zv7055  159.239696        11.912859  \n",
       "qf378nj5000  636.403302         3.604632  \n",
       "tc482fh1865  101.539991         2.422691  "
      ]
     },
     "execution_count": 32,
     "metadata": {},
     "output_type": "execute_result"
    }
   ],
   "source": [
    "whisper['processing_rate'] = whisper['Duration'] / whisper['runtime']\n",
    "whisper[['Title', 'file', 'Duration', 'runtime', 'processing_rate']]"
   ]
  },
  {
   "cell_type": "markdown",
   "id": "aa332ab7-c84c-4cda-84fb-857c8e75f9af",
   "metadata": {},
   "source": [
    "There is a lot of variability in the processing_rate!"
   ]
  },
  {
   "cell_type": "code",
   "execution_count": 53,
   "id": "2cbfd23c-9295-4c35-8288-800bc0733fad",
   "metadata": {},
   "outputs": [
    {
     "data": {
      "application/vnd.plotly.v1+json": {
       "config": {
        "plotlyServerURL": "https://plot.ly"
       },
       "data": [
        {
         "alignmentgroup": "True",
         "hovertemplate": "variable=processing_rate<br>SDR Item=%{x}<br>Processing Rate=%{y}<extra></extra>",
         "legendgroup": "processing_rate",
         "marker": {
          "color": "#636efa",
          "pattern": {
           "shape": ""
          }
         },
         "name": "processing_rate",
         "offsetgroup": "processing_rate",
         "orientation": "v",
         "showlegend": true,
         "textposition": "auto",
         "type": "bar",
         "x": [
          "tc482fh1865",
          "qf378nj5000",
          "fh290wd1772",
          "bg405cn7261",
          "bw689yg2740",
          "gj097zq7635",
          "gn213vd3845",
          "bb158br2509",
          "kp010zv7055",
          "gk220dt2833"
         ],
         "xaxis": "x",
         "y": [
          2.4226907800297126,
          3.604632459936545,
          4.3721162729148615,
          4.416599593353224,
          5.2279130189135135,
          5.3648166357928595,
          5.689588562080558,
          6.652030033807263,
          11.912858713319824,
          24.778166428009566
         ],
         "yaxis": "y"
        }
       ],
       "layout": {
        "barmode": "relative",
        "height": 360,
        "legend": {
         "title": {
          "text": "variable"
         },
         "tracegroupgap": 0
        },
        "showlegend": false,
        "template": {
         "data": {
          "bar": [
           {
            "error_x": {
             "color": "#2a3f5f"
            },
            "error_y": {
             "color": "#2a3f5f"
            },
            "marker": {
             "line": {
              "color": "#E5ECF6",
              "width": 0.5
             },
             "pattern": {
              "fillmode": "overlay",
              "size": 10,
              "solidity": 0.2
             }
            },
            "type": "bar"
           }
          ],
          "barpolar": [
           {
            "marker": {
             "line": {
              "color": "#E5ECF6",
              "width": 0.5
             },
             "pattern": {
              "fillmode": "overlay",
              "size": 10,
              "solidity": 0.2
             }
            },
            "type": "barpolar"
           }
          ],
          "carpet": [
           {
            "aaxis": {
             "endlinecolor": "#2a3f5f",
             "gridcolor": "white",
             "linecolor": "white",
             "minorgridcolor": "white",
             "startlinecolor": "#2a3f5f"
            },
            "baxis": {
             "endlinecolor": "#2a3f5f",
             "gridcolor": "white",
             "linecolor": "white",
             "minorgridcolor": "white",
             "startlinecolor": "#2a3f5f"
            },
            "type": "carpet"
           }
          ],
          "choropleth": [
           {
            "colorbar": {
             "outlinewidth": 0,
             "ticks": ""
            },
            "type": "choropleth"
           }
          ],
          "contour": [
           {
            "colorbar": {
             "outlinewidth": 0,
             "ticks": ""
            },
            "colorscale": [
             [
              0,
              "#0d0887"
             ],
             [
              0.1111111111111111,
              "#46039f"
             ],
             [
              0.2222222222222222,
              "#7201a8"
             ],
             [
              0.3333333333333333,
              "#9c179e"
             ],
             [
              0.4444444444444444,
              "#bd3786"
             ],
             [
              0.5555555555555556,
              "#d8576b"
             ],
             [
              0.6666666666666666,
              "#ed7953"
             ],
             [
              0.7777777777777778,
              "#fb9f3a"
             ],
             [
              0.8888888888888888,
              "#fdca26"
             ],
             [
              1,
              "#f0f921"
             ]
            ],
            "type": "contour"
           }
          ],
          "contourcarpet": [
           {
            "colorbar": {
             "outlinewidth": 0,
             "ticks": ""
            },
            "type": "contourcarpet"
           }
          ],
          "heatmap": [
           {
            "colorbar": {
             "outlinewidth": 0,
             "ticks": ""
            },
            "colorscale": [
             [
              0,
              "#0d0887"
             ],
             [
              0.1111111111111111,
              "#46039f"
             ],
             [
              0.2222222222222222,
              "#7201a8"
             ],
             [
              0.3333333333333333,
              "#9c179e"
             ],
             [
              0.4444444444444444,
              "#bd3786"
             ],
             [
              0.5555555555555556,
              "#d8576b"
             ],
             [
              0.6666666666666666,
              "#ed7953"
             ],
             [
              0.7777777777777778,
              "#fb9f3a"
             ],
             [
              0.8888888888888888,
              "#fdca26"
             ],
             [
              1,
              "#f0f921"
             ]
            ],
            "type": "heatmap"
           }
          ],
          "heatmapgl": [
           {
            "colorbar": {
             "outlinewidth": 0,
             "ticks": ""
            },
            "colorscale": [
             [
              0,
              "#0d0887"
             ],
             [
              0.1111111111111111,
              "#46039f"
             ],
             [
              0.2222222222222222,
              "#7201a8"
             ],
             [
              0.3333333333333333,
              "#9c179e"
             ],
             [
              0.4444444444444444,
              "#bd3786"
             ],
             [
              0.5555555555555556,
              "#d8576b"
             ],
             [
              0.6666666666666666,
              "#ed7953"
             ],
             [
              0.7777777777777778,
              "#fb9f3a"
             ],
             [
              0.8888888888888888,
              "#fdca26"
             ],
             [
              1,
              "#f0f921"
             ]
            ],
            "type": "heatmapgl"
           }
          ],
          "histogram": [
           {
            "marker": {
             "pattern": {
              "fillmode": "overlay",
              "size": 10,
              "solidity": 0.2
             }
            },
            "type": "histogram"
           }
          ],
          "histogram2d": [
           {
            "colorbar": {
             "outlinewidth": 0,
             "ticks": ""
            },
            "colorscale": [
             [
              0,
              "#0d0887"
             ],
             [
              0.1111111111111111,
              "#46039f"
             ],
             [
              0.2222222222222222,
              "#7201a8"
             ],
             [
              0.3333333333333333,
              "#9c179e"
             ],
             [
              0.4444444444444444,
              "#bd3786"
             ],
             [
              0.5555555555555556,
              "#d8576b"
             ],
             [
              0.6666666666666666,
              "#ed7953"
             ],
             [
              0.7777777777777778,
              "#fb9f3a"
             ],
             [
              0.8888888888888888,
              "#fdca26"
             ],
             [
              1,
              "#f0f921"
             ]
            ],
            "type": "histogram2d"
           }
          ],
          "histogram2dcontour": [
           {
            "colorbar": {
             "outlinewidth": 0,
             "ticks": ""
            },
            "colorscale": [
             [
              0,
              "#0d0887"
             ],
             [
              0.1111111111111111,
              "#46039f"
             ],
             [
              0.2222222222222222,
              "#7201a8"
             ],
             [
              0.3333333333333333,
              "#9c179e"
             ],
             [
              0.4444444444444444,
              "#bd3786"
             ],
             [
              0.5555555555555556,
              "#d8576b"
             ],
             [
              0.6666666666666666,
              "#ed7953"
             ],
             [
              0.7777777777777778,
              "#fb9f3a"
             ],
             [
              0.8888888888888888,
              "#fdca26"
             ],
             [
              1,
              "#f0f921"
             ]
            ],
            "type": "histogram2dcontour"
           }
          ],
          "mesh3d": [
           {
            "colorbar": {
             "outlinewidth": 0,
             "ticks": ""
            },
            "type": "mesh3d"
           }
          ],
          "parcoords": [
           {
            "line": {
             "colorbar": {
              "outlinewidth": 0,
              "ticks": ""
             }
            },
            "type": "parcoords"
           }
          ],
          "pie": [
           {
            "automargin": true,
            "type": "pie"
           }
          ],
          "scatter": [
           {
            "fillpattern": {
             "fillmode": "overlay",
             "size": 10,
             "solidity": 0.2
            },
            "type": "scatter"
           }
          ],
          "scatter3d": [
           {
            "line": {
             "colorbar": {
              "outlinewidth": 0,
              "ticks": ""
             }
            },
            "marker": {
             "colorbar": {
              "outlinewidth": 0,
              "ticks": ""
             }
            },
            "type": "scatter3d"
           }
          ],
          "scattercarpet": [
           {
            "marker": {
             "colorbar": {
              "outlinewidth": 0,
              "ticks": ""
             }
            },
            "type": "scattercarpet"
           }
          ],
          "scattergeo": [
           {
            "marker": {
             "colorbar": {
              "outlinewidth": 0,
              "ticks": ""
             }
            },
            "type": "scattergeo"
           }
          ],
          "scattergl": [
           {
            "marker": {
             "colorbar": {
              "outlinewidth": 0,
              "ticks": ""
             }
            },
            "type": "scattergl"
           }
          ],
          "scattermapbox": [
           {
            "marker": {
             "colorbar": {
              "outlinewidth": 0,
              "ticks": ""
             }
            },
            "type": "scattermapbox"
           }
          ],
          "scatterpolar": [
           {
            "marker": {
             "colorbar": {
              "outlinewidth": 0,
              "ticks": ""
             }
            },
            "type": "scatterpolar"
           }
          ],
          "scatterpolargl": [
           {
            "marker": {
             "colorbar": {
              "outlinewidth": 0,
              "ticks": ""
             }
            },
            "type": "scatterpolargl"
           }
          ],
          "scatterternary": [
           {
            "marker": {
             "colorbar": {
              "outlinewidth": 0,
              "ticks": ""
             }
            },
            "type": "scatterternary"
           }
          ],
          "surface": [
           {
            "colorbar": {
             "outlinewidth": 0,
             "ticks": ""
            },
            "colorscale": [
             [
              0,
              "#0d0887"
             ],
             [
              0.1111111111111111,
              "#46039f"
             ],
             [
              0.2222222222222222,
              "#7201a8"
             ],
             [
              0.3333333333333333,
              "#9c179e"
             ],
             [
              0.4444444444444444,
              "#bd3786"
             ],
             [
              0.5555555555555556,
              "#d8576b"
             ],
             [
              0.6666666666666666,
              "#ed7953"
             ],
             [
              0.7777777777777778,
              "#fb9f3a"
             ],
             [
              0.8888888888888888,
              "#fdca26"
             ],
             [
              1,
              "#f0f921"
             ]
            ],
            "type": "surface"
           }
          ],
          "table": [
           {
            "cells": {
             "fill": {
              "color": "#EBF0F8"
             },
             "line": {
              "color": "white"
             }
            },
            "header": {
             "fill": {
              "color": "#C8D4E3"
             },
             "line": {
              "color": "white"
             }
            },
            "type": "table"
           }
          ]
         },
         "layout": {
          "annotationdefaults": {
           "arrowcolor": "#2a3f5f",
           "arrowhead": 0,
           "arrowwidth": 1
          },
          "autotypenumbers": "strict",
          "coloraxis": {
           "colorbar": {
            "outlinewidth": 0,
            "ticks": ""
           }
          },
          "colorscale": {
           "diverging": [
            [
             0,
             "#8e0152"
            ],
            [
             0.1,
             "#c51b7d"
            ],
            [
             0.2,
             "#de77ae"
            ],
            [
             0.3,
             "#f1b6da"
            ],
            [
             0.4,
             "#fde0ef"
            ],
            [
             0.5,
             "#f7f7f7"
            ],
            [
             0.6,
             "#e6f5d0"
            ],
            [
             0.7,
             "#b8e186"
            ],
            [
             0.8,
             "#7fbc41"
            ],
            [
             0.9,
             "#4d9221"
            ],
            [
             1,
             "#276419"
            ]
           ],
           "sequential": [
            [
             0,
             "#0d0887"
            ],
            [
             0.1111111111111111,
             "#46039f"
            ],
            [
             0.2222222222222222,
             "#7201a8"
            ],
            [
             0.3333333333333333,
             "#9c179e"
            ],
            [
             0.4444444444444444,
             "#bd3786"
            ],
            [
             0.5555555555555556,
             "#d8576b"
            ],
            [
             0.6666666666666666,
             "#ed7953"
            ],
            [
             0.7777777777777778,
             "#fb9f3a"
            ],
            [
             0.8888888888888888,
             "#fdca26"
            ],
            [
             1,
             "#f0f921"
            ]
           ],
           "sequentialminus": [
            [
             0,
             "#0d0887"
            ],
            [
             0.1111111111111111,
             "#46039f"
            ],
            [
             0.2222222222222222,
             "#7201a8"
            ],
            [
             0.3333333333333333,
             "#9c179e"
            ],
            [
             0.4444444444444444,
             "#bd3786"
            ],
            [
             0.5555555555555556,
             "#d8576b"
            ],
            [
             0.6666666666666666,
             "#ed7953"
            ],
            [
             0.7777777777777778,
             "#fb9f3a"
            ],
            [
             0.8888888888888888,
             "#fdca26"
            ],
            [
             1,
             "#f0f921"
            ]
           ]
          },
          "colorway": [
           "#636efa",
           "#EF553B",
           "#00cc96",
           "#ab63fa",
           "#FFA15A",
           "#19d3f3",
           "#FF6692",
           "#B6E880",
           "#FF97FF",
           "#FECB52"
          ],
          "font": {
           "color": "#2a3f5f"
          },
          "geo": {
           "bgcolor": "white",
           "lakecolor": "white",
           "landcolor": "#E5ECF6",
           "showlakes": true,
           "showland": true,
           "subunitcolor": "white"
          },
          "hoverlabel": {
           "align": "left"
          },
          "hovermode": "closest",
          "mapbox": {
           "style": "light"
          },
          "paper_bgcolor": "white",
          "plot_bgcolor": "#E5ECF6",
          "polar": {
           "angularaxis": {
            "gridcolor": "white",
            "linecolor": "white",
            "ticks": ""
           },
           "bgcolor": "#E5ECF6",
           "radialaxis": {
            "gridcolor": "white",
            "linecolor": "white",
            "ticks": ""
           }
          },
          "scene": {
           "xaxis": {
            "backgroundcolor": "#E5ECF6",
            "gridcolor": "white",
            "gridwidth": 2,
            "linecolor": "white",
            "showbackground": true,
            "ticks": "",
            "zerolinecolor": "white"
           },
           "yaxis": {
            "backgroundcolor": "#E5ECF6",
            "gridcolor": "white",
            "gridwidth": 2,
            "linecolor": "white",
            "showbackground": true,
            "ticks": "",
            "zerolinecolor": "white"
           },
           "zaxis": {
            "backgroundcolor": "#E5ECF6",
            "gridcolor": "white",
            "gridwidth": 2,
            "linecolor": "white",
            "showbackground": true,
            "ticks": "",
            "zerolinecolor": "white"
           }
          },
          "shapedefaults": {
           "line": {
            "color": "#2a3f5f"
           }
          },
          "ternary": {
           "aaxis": {
            "gridcolor": "white",
            "linecolor": "white",
            "ticks": ""
           },
           "baxis": {
            "gridcolor": "white",
            "linecolor": "white",
            "ticks": ""
           },
           "bgcolor": "#E5ECF6",
           "caxis": {
            "gridcolor": "white",
            "linecolor": "white",
            "ticks": ""
           }
          },
          "title": {
           "x": 0.05
          },
          "xaxis": {
           "automargin": true,
           "gridcolor": "white",
           "linecolor": "white",
           "ticks": "",
           "title": {
            "standoff": 15
           },
           "zerolinecolor": "white",
           "zerolinewidth": 2
          },
          "yaxis": {
           "automargin": true,
           "gridcolor": "white",
           "linecolor": "white",
           "ticks": "",
           "title": {
            "standoff": 15
           },
           "zerolinecolor": "white",
           "zerolinewidth": 2
          }
         }
        },
        "title": {
         "text": "Whisper Processing Rate (media seconds / processing seconds)"
        },
        "width": 750,
        "xaxis": {
         "anchor": "y",
         "autorange": true,
         "domain": [
          0,
          1
         ],
         "range": [
          -0.5,
          9.5
         ],
         "title": {
          "text": "SDR Item"
         },
         "type": "category"
        },
        "yaxis": {
         "anchor": "x",
         "autorange": true,
         "domain": [
          0,
          1
         ],
         "range": [
          0,
          26.082280450536384
         ],
         "title": {
          "text": "Processing Rate"
         },
         "type": "linear"
        }
       }
      },
      "image/png": "[encoded data removed]",
      "text/html": [
       "<div>                            <div id=\"a7e3a656-33e3-4961-9229-57ac0ee657a5\" class=\"plotly-graph-div\" style=\"height:525px; width:750px;\"></div>            <script type=\"text/javascript\">                require([\"plotly\"], function(Plotly) {                    window.PLOTLYENV=window.PLOTLYENV || {};                                    if (document.getElementById(\"a7e3a656-33e3-4961-9229-57ac0ee657a5\")) {                    Plotly.newPlot(                        \"a7e3a656-33e3-4961-9229-57ac0ee657a5\",                        [{\"alignmentgroup\":\"True\",\"hovertemplate\":\"variable=processing_rate\\u003cbr\\u003eSDR Item=%{x}\\u003cbr\\u003eProcessing Rate=%{y}\\u003cextra\\u003e\\u003c\\u002fextra\\u003e\",\"legendgroup\":\"processing_rate\",\"marker\":{\"color\":\"#636efa\",\"pattern\":{\"shape\":\"\"}},\"name\":\"processing_rate\",\"offsetgroup\":\"processing_rate\",\"orientation\":\"v\",\"showlegend\":true,\"textposition\":\"auto\",\"x\":[\"tc482fh1865\",\"qf378nj5000\",\"fh290wd1772\",\"bg405cn7261\",\"bw689yg2740\",\"gj097zq7635\",\"gn213vd3845\",\"bb158br2509\",\"kp010zv7055\",\"gk220dt2833\"],\"xaxis\":\"x\",\"y\":[2.4226907800297126,3.604632459936545,4.3721162729148615,4.416599593353224,5.2279130189135135,5.3648166357928595,5.689588562080558,6.652030033807263,11.912858713319824,24.778166428009566],\"yaxis\":\"y\",\"type\":\"bar\"}],                        {\"template\":{\"data\":{\"histogram2dcontour\":[{\"type\":\"histogram2dcontour\",\"colorbar\":{\"outlinewidth\":0,\"ticks\":\"\"},\"colorscale\":[[0.0,\"#0d0887\"],[0.1111111111111111,\"#46039f\"],[0.2222222222222222,\"#7201a8\"],[0.3333333333333333,\"#9c179e\"],[0.4444444444444444,\"#bd3786\"],[0.5555555555555556,\"#d8576b\"],[0.6666666666666666,\"#ed7953\"],[0.7777777777777778,\"#fb9f3a\"],[0.8888888888888888,\"#fdca26\"],[1.0,\"#f0f921\"]]}],\"choropleth\":[{\"type\":\"choropleth\",\"colorbar\":{\"outlinewidth\":0,\"ticks\":\"\"}}],\"histogram2d\":[{\"type\":\"histogram2d\",\"colorbar\":{\"outlinewidth\":0,\"ticks\":\"\"},\"colorscale\":[[0.0,\"#0d0887\"],[0.1111111111111111,\"#46039f\"],[0.2222222222222222,\"#7201a8\"],[0.3333333333333333,\"#9c179e\"],[0.4444444444444444,\"#bd3786\"],[0.5555555555555556,\"#d8576b\"],[0.6666666666666666,\"#ed7953\"],[0.7777777777777778,\"#fb9f3a\"],[0.8888888888888888,\"#fdca26\"],[1.0,\"#f0f921\"]]}],\"heatmap\":[{\"type\":\"heatmap\",\"colorbar\":{\"outlinewidth\":0,\"ticks\":\"\"},\"colorscale\":[[0.0,\"#0d0887\"],[0.1111111111111111,\"#46039f\"],[0.2222222222222222,\"#7201a8\"],[0.3333333333333333,\"#9c179e\"],[0.4444444444444444,\"#bd3786\"],[0.5555555555555556,\"#d8576b\"],[0.6666666666666666,\"#ed7953\"],[0.7777777777777778,\"#fb9f3a\"],[0.8888888888888888,\"#fdca26\"],[1.0,\"#f0f921\"]]}],\"heatmapgl\":[{\"type\":\"heatmapgl\",\"colorbar\":{\"outlinewidth\":0,\"ticks\":\"\"},\"colorscale\":[[0.0,\"#0d0887\"],[0.1111111111111111,\"#46039f\"],[0.2222222222222222,\"#7201a8\"],[0.3333333333333333,\"#9c179e\"],[0.4444444444444444,\"#bd3786\"],[0.5555555555555556,\"#d8576b\"],[0.6666666666666666,\"#ed7953\"],[0.7777777777777778,\"#fb9f3a\"],[0.8888888888888888,\"#fdca26\"],[1.0,\"#f0f921\"]]}],\"contourcarpet\":[{\"type\":\"contourcarpet\",\"colorbar\":{\"outlinewidth\":0,\"ticks\":\"\"}}],\"contour\":[{\"type\":\"contour\",\"colorbar\":{\"outlinewidth\":0,\"ticks\":\"\"},\"colorscale\":[[0.0,\"#0d0887\"],[0.1111111111111111,\"#46039f\"],[0.2222222222222222,\"#7201a8\"],[0.3333333333333333,\"#9c179e\"],[0.4444444444444444,\"#bd3786\"],[0.5555555555555556,\"#d8576b\"],[0.6666666666666666,\"#ed7953\"],[0.7777777777777778,\"#fb9f3a\"],[0.8888888888888888,\"#fdca26\"],[1.0,\"#f0f921\"]]}],\"surface\":[{\"type\":\"surface\",\"colorbar\":{\"outlinewidth\":0,\"ticks\":\"\"},\"colorscale\":[[0.0,\"#0d0887\"],[0.1111111111111111,\"#46039f\"],[0.2222222222222222,\"#7201a8\"],[0.3333333333333333,\"#9c179e\"],[0.4444444444444444,\"#bd3786\"],[0.5555555555555556,\"#d8576b\"],[0.6666666666666666,\"#ed7953\"],[0.7777777777777778,\"#fb9f3a\"],[0.8888888888888888,\"#fdca26\"],[1.0,\"#f0f921\"]]}],\"mesh3d\":[{\"type\":\"mesh3d\",\"colorbar\":{\"outlinewidth\":0,\"ticks\":\"\"}}],\"scatter\":[{\"fillpattern\":{\"fillmode\":\"overlay\",\"size\":10,\"solidity\":0.2},\"type\":\"scatter\"}],\"parcoords\":[{\"type\":\"parcoords\",\"line\":{\"colorbar\":{\"outlinewidth\":0,\"ticks\":\"\"}}}],\"scatterpolargl\":[{\"type\":\"scatterpolargl\",\"marker\":{\"colorbar\":{\"outlinewidth\":0,\"ticks\":\"\"}}}],\"bar\":[{\"error_x\":{\"color\":\"#2a3f5f\"},\"error_y\":{\"color\":\"#2a3f5f\"},\"marker\":{\"line\":{\"color\":\"#E5ECF6\",\"width\":0.5},\"pattern\":{\"fillmode\":\"overlay\",\"size\":10,\"solidity\":0.2}},\"type\":\"bar\"}],\"scattergeo\":[{\"type\":\"scattergeo\",\"marker\":{\"colorbar\":{\"outlinewidth\":0,\"ticks\":\"\"}}}],\"scatterpolar\":[{\"type\":\"scatterpolar\",\"marker\":{\"colorbar\":{\"outlinewidth\":0,\"ticks\":\"\"}}}],\"histogram\":[{\"marker\":{\"pattern\":{\"fillmode\":\"overlay\",\"size\":10,\"solidity\":0.2}},\"type\":\"histogram\"}],\"scattergl\":[{\"type\":\"scattergl\",\"marker\":{\"colorbar\":{\"outlinewidth\":0,\"ticks\":\"\"}}}],\"scatter3d\":[{\"type\":\"scatter3d\",\"line\":{\"colorbar\":{\"outlinewidth\":0,\"ticks\":\"\"}},\"marker\":{\"colorbar\":{\"outlinewidth\":0,\"ticks\":\"\"}}}],\"scattermapbox\":[{\"type\":\"scattermapbox\",\"marker\":{\"colorbar\":{\"outlinewidth\":0,\"ticks\":\"\"}}}],\"scatterternary\":[{\"type\":\"scatterternary\",\"marker\":{\"colorbar\":{\"outlinewidth\":0,\"ticks\":\"\"}}}],\"scattercarpet\":[{\"type\":\"scattercarpet\",\"marker\":{\"colorbar\":{\"outlinewidth\":0,\"ticks\":\"\"}}}],\"carpet\":[{\"aaxis\":{\"endlinecolor\":\"#2a3f5f\",\"gridcolor\":\"white\",\"linecolor\":\"white\",\"minorgridcolor\":\"white\",\"startlinecolor\":\"#2a3f5f\"},\"baxis\":{\"endlinecolor\":\"#2a3f5f\",\"gridcolor\":\"white\",\"linecolor\":\"white\",\"minorgridcolor\":\"white\",\"startlinecolor\":\"#2a3f5f\"},\"type\":\"carpet\"}],\"table\":[{\"cells\":{\"fill\":{\"color\":\"#EBF0F8\"},\"line\":{\"color\":\"white\"}},\"header\":{\"fill\":{\"color\":\"#C8D4E3\"},\"line\":{\"color\":\"white\"}},\"type\":\"table\"}],\"barpolar\":[{\"marker\":{\"line\":{\"color\":\"#E5ECF6\",\"width\":0.5},\"pattern\":{\"fillmode\":\"overlay\",\"size\":10,\"solidity\":0.2}},\"type\":\"barpolar\"}],\"pie\":[{\"automargin\":true,\"type\":\"pie\"}]},\"layout\":{\"autotypenumbers\":\"strict\",\"colorway\":[\"#636efa\",\"#EF553B\",\"#00cc96\",\"#ab63fa\",\"#FFA15A\",\"#19d3f3\",\"#FF6692\",\"#B6E880\",\"#FF97FF\",\"#FECB52\"],\"font\":{\"color\":\"#2a3f5f\"},\"hovermode\":\"closest\",\"hoverlabel\":{\"align\":\"left\"},\"paper_bgcolor\":\"white\",\"plot_bgcolor\":\"#E5ECF6\",\"polar\":{\"bgcolor\":\"#E5ECF6\",\"angularaxis\":{\"gridcolor\":\"white\",\"linecolor\":\"white\",\"ticks\":\"\"},\"radialaxis\":{\"gridcolor\":\"white\",\"linecolor\":\"white\",\"ticks\":\"\"}},\"ternary\":{\"bgcolor\":\"#E5ECF6\",\"aaxis\":{\"gridcolor\":\"white\",\"linecolor\":\"white\",\"ticks\":\"\"},\"baxis\":{\"gridcolor\":\"white\",\"linecolor\":\"white\",\"ticks\":\"\"},\"caxis\":{\"gridcolor\":\"white\",\"linecolor\":\"white\",\"ticks\":\"\"}},\"coloraxis\":{\"colorbar\":{\"outlinewidth\":0,\"ticks\":\"\"}},\"colorscale\":{\"sequential\":[[0.0,\"#0d0887\"],[0.1111111111111111,\"#46039f\"],[0.2222222222222222,\"#7201a8\"],[0.3333333333333333,\"#9c179e\"],[0.4444444444444444,\"#bd3786\"],[0.5555555555555556,\"#d8576b\"],[0.6666666666666666,\"#ed7953\"],[0.7777777777777778,\"#fb9f3a\"],[0.8888888888888888,\"#fdca26\"],[1.0,\"#f0f921\"]],\"sequentialminus\":[[0.0,\"#0d0887\"],[0.1111111111111111,\"#46039f\"],[0.2222222222222222,\"#7201a8\"],[0.3333333333333333,\"#9c179e\"],[0.4444444444444444,\"#bd3786\"],[0.5555555555555556,\"#d8576b\"],[0.6666666666666666,\"#ed7953\"],[0.7777777777777778,\"#fb9f3a\"],[0.8888888888888888,\"#fdca26\"],[1.0,\"#f0f921\"]],\"diverging\":[[0,\"#8e0152\"],[0.1,\"#c51b7d\"],[0.2,\"#de77ae\"],[0.3,\"#f1b6da\"],[0.4,\"#fde0ef\"],[0.5,\"#f7f7f7\"],[0.6,\"#e6f5d0\"],[0.7,\"#b8e186\"],[0.8,\"#7fbc41\"],[0.9,\"#4d9221\"],[1,\"#276419\"]]},\"xaxis\":{\"gridcolor\":\"white\",\"linecolor\":\"white\",\"ticks\":\"\",\"title\":{\"standoff\":15},\"zerolinecolor\":\"white\",\"automargin\":true,\"zerolinewidth\":2},\"yaxis\":{\"gridcolor\":\"white\",\"linecolor\":\"white\",\"ticks\":\"\",\"title\":{\"standoff\":15},\"zerolinecolor\":\"white\",\"automargin\":true,\"zerolinewidth\":2},\"scene\":{\"xaxis\":{\"backgroundcolor\":\"#E5ECF6\",\"gridcolor\":\"white\",\"linecolor\":\"white\",\"showbackground\":true,\"ticks\":\"\",\"zerolinecolor\":\"white\",\"gridwidth\":2},\"yaxis\":{\"backgroundcolor\":\"#E5ECF6\",\"gridcolor\":\"white\",\"linecolor\":\"white\",\"showbackground\":true,\"ticks\":\"\",\"zerolinecolor\":\"white\",\"gridwidth\":2},\"zaxis\":{\"backgroundcolor\":\"#E5ECF6\",\"gridcolor\":\"white\",\"linecolor\":\"white\",\"showbackground\":true,\"ticks\":\"\",\"zerolinecolor\":\"white\",\"gridwidth\":2}},\"shapedefaults\":{\"line\":{\"color\":\"#2a3f5f\"}},\"annotationdefaults\":{\"arrowcolor\":\"#2a3f5f\",\"arrowhead\":0,\"arrowwidth\":1},\"geo\":{\"bgcolor\":\"white\",\"landcolor\":\"#E5ECF6\",\"subunitcolor\":\"white\",\"showland\":true,\"showlakes\":true,\"lakecolor\":\"white\"},\"title\":{\"x\":0.05},\"mapbox\":{\"style\":\"light\"}}},\"xaxis\":{\"anchor\":\"y\",\"domain\":[0.0,1.0],\"title\":{\"text\":\"SDR Item\"}},\"yaxis\":{\"anchor\":\"x\",\"domain\":[0.0,1.0],\"title\":{\"text\":\"Processing Rate\"}},\"legend\":{\"title\":{\"text\":\"variable\"},\"tracegroupgap\":0},\"title\":{\"text\":\"Whisper Processing Rate (media seconds \\u002f processing seconds)\"},\"barmode\":\"relative\",\"width\":750,\"showlegend\":false},                        {\"responsive\": true}                    ).then(function(){\n",
       "                            \n",
       "var gd = document.getElementById('a7e3a656-33e3-4961-9229-57ac0ee657a5');\n",
       "var x = new MutationObserver(function (mutations, observer) {{\n",
       "        var display = window.getComputedStyle(gd).display;\n",
       "        if (!display || display === 'none') {{\n",
       "            console.log([gd, 'removed!']);\n",
       "            Plotly.purge(gd);\n",
       "            observer.disconnect();\n",
       "        }}\n",
       "}});\n",
       "\n",
       "// Listen for the removal of the full notebook cells\n",
       "var notebookContainer = gd.closest('#notebook-container');\n",
       "if (notebookContainer) {{\n",
       "    x.observe(notebookContainer, {childList: true});\n",
       "}}\n",
       "\n",
       "// Listen for the clearing of the current output cell\n",
       "var outputEl = gd.closest('.output');\n",
       "if (outputEl) {{\n",
       "    x.observe(outputEl, {childList: true});\n",
       "}}\n",
       "\n",
       "                        })                };                });            </script>        </div>"
      ]
     },
     "metadata": {},
     "output_type": "display_data"
    }
   ],
   "source": [
    "import plotly.express as xp\n",
    "\n",
    "fig = xp.bar(\n",
    "    whisper['processing_rate'].sort_values(),\n",
    "    width=750,\n",
    "    labels={\n",
    "        'value': 'Processing Rate',\n",
    "        'druid': 'SDR Item'\n",
    "    },\n",
    "    title='Whisper Processing Rate (media seconds / processing seconds)'\n",
    ")\n",
    "fig = fig.update_layout(showlegend=False)\n",
    "fig"
   ]
  },
  {
   "cell_type": "markdown",
   "id": "4b53272d-c7de-414f-9c88-7065a3b07275",
   "metadata": {},
   "source": [
    "Well lets just take the average and then use it to calcuate an estimate:"
   ]
  },
  {
   "cell_type": "code",
   "execution_count": 54,
   "id": "10bc376a-b919-40d8-b7a6-662f728130a3",
   "metadata": {},
   "outputs": [
    {
     "data": {
      "text/plain": [
       "7.444141249815791"
      ]
     },
     "execution_count": 54,
     "metadata": {},
     "output_type": "execute_result"
    }
   ],
   "source": [
    "avg_rate = whisper.processing_rate.mean()\n",
    "avg_rate"
   ]
  },
  {
   "cell_type": "code",
   "execution_count": 57,
   "id": "5e133bfa-e62e-4e91-9181-37f60474f8e0",
   "metadata": {},
   "outputs": [
    {
     "data": {
      "text/plain": [
       "23611373.575743128"
      ]
     },
     "execution_count": 57,
     "metadata": {},
     "output_type": "execute_result"
    }
   ],
   "source": [
    "175_766_400 / avg_rate"
   ]
  },
  {
   "cell_type": "code",
   "execution_count": 59,
   "id": "4cb6bb3e-fc5a-4f6a-8c96-4ed1cc73d5c2",
   "metadata": {},
   "outputs": [
    {
     "name": "stdout",
     "output_type": "stream",
     "text": [
      "Object `that` not found.\n"
     ]
    }
   ],
   "source": [
    "How many days is that?"
   ]
  },
  {
   "cell_type": "code",
   "execution_count": 58,
   "id": "d20c4f8f-6288-4fd9-bdff-bec437bbbbaa",
   "metadata": {},
   "outputs": [
    {
     "data": {
      "text/plain": [
       "273.2797867562862"
      ]
     },
     "execution_count": 58,
     "metadata": {},
     "output_type": "execute_result"
    }
   ],
   "source": [
    "175_766_400 / avg_rate / 60 / 60 / 24"
   ]
  }
 ],
 "metadata": {
  "kernelspec": {
   "display_name": "Python 3 (ipykernel)",
   "language": "python",
   "name": "python3"
  },
  "language_info": {
   "codemirror_mode": {
    "name": "ipython",
    "version": 3
   },
   "file_extension": ".py",
   "mimetype": "text/x-python",
   "name": "python",
   "nbconvert_exporter": "python",
   "pygments_lexer": "ipython3",
   "version": "3.12.0"
  }
 },
 "nbformat": 4,
 "nbformat_minor": 5
}
